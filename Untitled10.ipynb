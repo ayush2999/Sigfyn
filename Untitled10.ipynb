{
  "nbformat": 4,
  "nbformat_minor": 0,
  "metadata": {
    "colab": {
      "name": "Untitled10.ipynb",
      "provenance": [],
      "collapsed_sections": [],
      "authorship_tag": "ABX9TyOVu3OM//aSsf2461dpul9F",
      "include_colab_link": true
    },
    "kernelspec": {
      "name": "python3",
      "display_name": "Python 3"
    },
    "language_info": {
      "name": "python"
    }
  },
  "cells": [
    {
      "cell_type": "markdown",
      "metadata": {
        "id": "view-in-github",
        "colab_type": "text"
      },
      "source": [
        "<a href=\"https://colab.research.google.com/github/ayush2999/Sigfyn/blob/master/Untitled10.ipynb\" target=\"_parent\"><img src=\"https://colab.research.google.com/assets/colab-badge.svg\" alt=\"Open In Colab\"/></a>"
      ]
    },
    {
      "cell_type": "markdown",
      "source": [
        "##DFS"
      ],
      "metadata": {
        "id": "7V6abcrM-fG3"
      }
    },
    {
      "cell_type": "code",
      "source": [
        "from collections import defaultdict\n",
        "\n",
        "class Graph:\n",
        "    def __init__(self):\n",
        "        self.graph = defaultdict(list)\n",
        "    \n",
        "    def addEdge(self, u, v):\n",
        "        self.graph[u].append(v)\n",
        "\n",
        "    def DFSUtil(self, v, visited):\n",
        "        visited.add(v)\n",
        "        print(v, end=' ')\n",
        "        for neighbour in self.graph[v]:\n",
        "            if neighbour not in visited:\n",
        "                self.DFSUtil(neighbour, visited)\n",
        "\n",
        "    def DFS(self, v):\n",
        "        visited = set()\n",
        "        self.DFSUtil(v, visited)\n",
        "\n",
        "V=int(input(\"Input Vertex: \"))\n",
        "graph = Graph()\n",
        "\n",
        "for v in range(V):\n",
        "    s= int(input(\"Input Source: \"))\n",
        "    d= int(input(\"Input Destination: \"))\n",
        "    graph.addEdge(s, d)\n",
        "\n",
        "graph.DFS(0)"
      ],
      "metadata": {
        "colab": {
          "base_uri": "https://localhost:8080/"
        },
        "id": "aZt18zSP4o4H",
        "outputId": "dee77b9c-74fa-4d5d-db62-5762bd7aaf3c"
      },
      "execution_count": null,
      "outputs": [
        {
          "output_type": "stream",
          "name": "stdout",
          "text": [
            "Input Vertex: 6\n",
            "<class 'int'>\n",
            "Input Source: 0\n",
            "Input Destination: 1\n",
            "Input Source: 0\n",
            "Input Destination: 2\n",
            "Input Source: 1\n",
            "Input Destination: 2\n",
            "Input Source: 2\n",
            "Input Destination: 0\n",
            "Input Source: 2\n",
            "Input Destination: 3\n",
            "Input Source: 3\n",
            "Input Destination: 3\n",
            "0 1 2 3 "
          ]
        }
      ]
    },
    {
      "cell_type": "markdown",
      "source": [
        "##MERGE SORT"
      ],
      "metadata": {
        "id": "A8VemUET-Yx4"
      }
    },
    {
      "cell_type": "code",
      "source": [
        "def merge(arr, l, m, r):\n",
        "    n1 = m - l + 1\n",
        "    n2 = r - m\n",
        "    L = [0] * (n1)\n",
        "    R = [0] * (n2)\n",
        " \n",
        "    # Copy data to temp arrays L[] and R[]\n",
        "    for i in range(0, n1):\n",
        "        L[i] = arr[l + i]\n",
        " \n",
        "    for j in range(0, n2):\n",
        "        R[j] = arr[m + 1 + j]\n",
        " \n",
        "    # Merge the temp arrays back into arr[l..r]\n",
        "    i = 0        \n",
        "    j = 0    \n",
        "    k = l    \n",
        " \n",
        "    while i < n1 and j < n2:\n",
        "        if L[i] <= R[j]:\n",
        "            arr[k] = L[i]\n",
        "            i += 1\n",
        "        else:\n",
        "            arr[k] = R[j]\n",
        "            j += 1\n",
        "        k += 1\n",
        "    while i < n1:\n",
        "        arr[k] = L[i]\n",
        "        i += 1\n",
        "        k += 1\n",
        "    while j < n2:\n",
        "        arr[k] = R[j]\n",
        "        j += 1\n",
        "        k += 1\n",
        "  \n",
        "def mergeSort(arr, l, r):\n",
        "    if l < r:\n",
        "        m = l+(r-l)//2\n",
        "        mergeSort(arr, l, m)\n",
        "        mergeSort(arr, m+1, r)\n",
        "        merge(arr, l, m, r)\n",
        " \n",
        " \n",
        "n=int(input(\"Input Size: \"))\n",
        "arr = []\n",
        "\n",
        "for i in range(n):\n",
        "  x=int(input('Enter Value: '))\n",
        "  arr.append(x)\n",
        "\n",
        "\n",
        "print(\"Given array is\")\n",
        "for i in range(n):\n",
        "    print(\"%d\" % arr[i]),\n",
        " \n",
        "mergeSort(arr, 0, n-1)\n",
        "print(\"\\n\\nSorted array is\")\n",
        "for i in range(n):\n",
        "    print(\"%d\" % arr[i]),"
      ],
      "metadata": {
        "colab": {
          "base_uri": "https://localhost:8080/"
        },
        "id": "1BDWOuoz-bBE",
        "outputId": "ae7e7e50-a682-4685-a2b8-4ad2ff03127e"
      },
      "execution_count": null,
      "outputs": [
        {
          "output_type": "stream",
          "name": "stdout",
          "text": [
            "Input Size: 5\n",
            "Enter Value: 2\n",
            "Enter Value: 1\n",
            "Enter Value: 3\n",
            "Enter Value: 4\n",
            "Enter Value: 5\n",
            "Given array is\n",
            "2\n",
            "1\n",
            "3\n",
            "4\n",
            "5\n",
            "\n",
            "\n",
            "Sorted array is\n",
            "1\n",
            "2\n",
            "3\n",
            "4\n",
            "5\n"
          ]
        }
      ]
    },
    {
      "cell_type": "code",
      "source": [
        ""
      ],
      "metadata": {
        "id": "wTig4V_U_oRI"
      },
      "execution_count": null,
      "outputs": []
    }
  ]
}